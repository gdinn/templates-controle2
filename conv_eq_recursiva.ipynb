{
 "cells": [
  {
   "cell_type": "markdown",
   "metadata": {},
   "source": [
    "![](imgs/enunciado3.png)"
   ]
  },
  {
   "cell_type": "markdown",
   "metadata": {},
   "source": [
    "![](imgs/enunciado_3.png)"
   ]
  },
  {
   "cell_type": "markdown",
   "metadata": {},
   "source": [
    "### Base teórica\n",
    "Para fazer transformada Z e conversão de eq. recursiva é fundamental usar a propriedade de time-shifting da transformada Z."
   ]
  },
  {
   "cell_type": "markdown",
   "metadata": {},
   "source": [
    "![](imgs/tz_time_shift.png)"
   ]
  },
  {
   "cell_type": "markdown",
   "metadata": {},
   "source": [
    "Para encontrar as transformadas envolvidas foi utilizado [essa tabela](https://lpsa.swarthmore.edu/LaplaceZTable/LaplaceZFuncTable.html)."
   ]
  },
  {
   "cell_type": "markdown",
   "metadata": {},
   "source": [
    "### Vamos de resolução"
   ]
  },
  {
   "cell_type": "markdown",
   "metadata": {},
   "source": [
    "![](imgs/transf_z_3_2.png)"
   ]
  },
  {
   "cell_type": "markdown",
   "metadata": {},
   "source": [
    "**OBS**: Importante notar que a aplicação da propriedade de time-shift foi para equivaler os termos aos da tabela, por conta disso que a transformada de y(k+1) foi representada como Z*Y(z)"
   ]
  },
  {
   "cell_type": "code",
   "execution_count": 4,
   "metadata": {},
   "outputs": [
    {
     "name": "stdout",
     "output_type": "stream",
     "text": [
      "Piecewise((25*UnitImpulse(n) + 75/4 - 175*5**(-n)/4, n >= 0))\n"
     ]
    }
   ],
   "source": [
    "from lcapy.discretetime import z\n",
    "Yz=(10*z+5)/((z-1)*(z-0.2))\n",
    "xk=Yz.IZT()\n",
    "print(xk) "
   ]
  },
  {
   "cell_type": "code",
   "execution_count": 6,
   "metadata": {},
   "outputs": [
    {
     "data": {
      "image/png": "[encoded data removed]",
      "text/plain": [
       "<Figure size 432x288 with 1 Axes>"
      ]
     },
     "metadata": {
      "needs_background": "light"
     },
     "output_type": "display_data"
    }
   ],
   "source": [
    "from matplotlib.pyplot import plot\n",
    "from numpy import arange, ones, zeros\n",
    "\n",
    "k = arange(kmax+1);\n",
    "y_ex = 75/4 - (175/4)*(1/5**(k));\n",
    "y_ex[0] += 25;\n",
    "\n",
    "kmax = 20;\n",
    "y_rc = zeros(kmax+1);\n",
    "e = 15*ones(kmax+1);\n",
    "e[0] = 10;\n",
    "\n",
    "for i in range(1, kmax+1):\n",
    "    y_rc[i] = 0.2*y_rc[i-1] + e[i-1];\n",
    "    \n",
    "plot(k, y_rc, \"o\");\n",
    "plot(k, y_ex, \"+\");"
   ]
  }
 ],
 "metadata": {
  "kernelspec": {
   "display_name": "Python 3",
   "language": "python",
   "name": "python3"
  },
  "language_info": {
   "codemirror_mode": {
    "name": "ipython",
    "version": 3
   },
   "file_extension": ".py",
   "mimetype": "text/x-python",
   "name": "python",
   "nbconvert_exporter": "python",
   "pygments_lexer": "ipython3",
   "version": "3.7.6"
  }
 },
 "nbformat": 4,
 "nbformat_minor": 4
}
